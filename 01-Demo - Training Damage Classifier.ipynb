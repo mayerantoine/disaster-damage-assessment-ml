{
 "cells": [
  {
   "cell_type": "markdown",
   "metadata": {},
   "source": [
    "# Demo Training - Damage Classifier"
   ]
  },
  {
   "cell_type": "markdown",
   "metadata": {},
   "source": [
    "## Download the data"
   ]
  },
  {
   "cell_type": "code",
   "execution_count": 3,
   "metadata": {},
   "outputs": [
    {
     "name": "stdout",
     "output_type": "stream",
     "text": [
      "working dir c:\\Users\\wsn8\\Code\\disaster-damage-assessment-ml\n",
      "images folder found\n",
      "images data already existed\n",
      "['c:\\\\Users\\\\wsn8\\\\Code\\\\disaster-damage-assessment-ml\\\\data\\\\ASONAM17_Damage_Image_Dataset\\\\ecuador.dev', 'c:\\\\Users\\\\wsn8\\\\Code\\\\disaster-damage-assessment-ml\\\\data\\\\ASONAM17_Damage_Image_Dataset\\\\ecuador.test', 'c:\\\\Users\\\\wsn8\\\\Code\\\\disaster-damage-assessment-ml\\\\data\\\\ASONAM17_Damage_Image_Dataset\\\\ecuador.train']\n",
      "['c:\\\\Users\\\\wsn8\\\\Code\\\\disaster-damage-assessment-ml\\\\data\\\\ASONAM17_Damage_Image_Dataset\\\\nepal.dev', 'c:\\\\Users\\\\wsn8\\\\Code\\\\disaster-damage-assessment-ml\\\\data\\\\ASONAM17_Damage_Image_Dataset\\\\nepal.test', 'c:\\\\Users\\\\wsn8\\\\Code\\\\disaster-damage-assessment-ml\\\\data\\\\ASONAM17_Damage_Image_Dataset\\\\nepal.train']\n",
      "['c:\\\\Users\\\\wsn8\\\\Code\\\\disaster-damage-assessment-ml\\\\data\\\\ASONAM17_Damage_Image_Dataset\\\\matthew.dev', 'c:\\\\Users\\\\wsn8\\\\Code\\\\disaster-damage-assessment-ml\\\\data\\\\ASONAM17_Damage_Image_Dataset\\\\matthew.test', 'c:\\\\Users\\\\wsn8\\\\Code\\\\disaster-damage-assessment-ml\\\\data\\\\ASONAM17_Damage_Image_Dataset\\\\matthew.train']\n",
      "['c:\\\\Users\\\\wsn8\\\\Code\\\\disaster-damage-assessment-ml\\\\data\\\\ASONAM17_Damage_Image_Dataset\\\\ruby.dev', 'c:\\\\Users\\\\wsn8\\\\Code\\\\disaster-damage-assessment-ml\\\\data\\\\ASONAM17_Damage_Image_Dataset\\\\ruby.test', 'c:\\\\Users\\\\wsn8\\\\Code\\\\disaster-damage-assessment-ml\\\\data\\\\ASONAM17_Damage_Image_Dataset\\\\ruby.train']\n",
      "['c:\\\\Users\\\\wsn8\\\\Code\\\\disaster-damage-assessment-ml\\\\data\\\\ASONAM17_Damage_Image_Dataset\\\\gg.dev', 'c:\\\\Users\\\\wsn8\\\\Code\\\\disaster-damage-assessment-ml\\\\data\\\\ASONAM17_Damage_Image_Dataset\\\\gg.test', 'c:\\\\Users\\\\wsn8\\\\Code\\\\disaster-damage-assessment-ml\\\\data\\\\ASONAM17_Damage_Image_Dataset\\\\gg.train']\n",
      "nepal 19104\n",
      "gg 3007\n",
      "ecuador 2280\n",
      "Cross-event data: ecuador\n",
      "train data: 14634\n",
      "dev data: 456\n",
      "test data: 456\n",
      "ruby 833\n",
      "gg 3007\n",
      "matthew 596\n",
      "Cross-event data: matthew\n",
      "train data: 2661\n",
      "dev data: 120\n",
      "test data: 119\n"
     ]
    }
   ],
   "source": [
    "# run download_dataset.py to download data\n",
    "!python download_dataset.py"
   ]
  },
  {
   "cell_type": "markdown",
   "metadata": {},
   "source": [
    "## Run Experiment"
   ]
  },
  {
   "cell_type": "markdown",
   "metadata": {},
   "source": [
    "The training parameters are :\n",
    "* `event` which natural disaster event. The events supported are the folders in `data/damage_csv`\n",
    "* `model` which model such as : efficientnet or mobilenet\n",
    "* `epochs` number epochs\n",
    "* `lr` learning rate\n",
    "* `batch`  batch size ,default is 32\n",
    "* `frac` proportion of data to use between 0 and 1.\n",
    "* `finentune`  to include finetuning after the training"
   ]
  },
  {
   "cell_type": "code",
   "execution_count": 1,
   "metadata": {},
   "outputs": [
    {
     "name": "stderr",
     "output_type": "stream",
     "text": [
      "Failed to detect the name of this notebook, you can set it manually with the WANDB_NOTEBOOK_NAME environment variable to enable code saving.\n"
     ]
    },
    {
     "name": "stdout",
     "output_type": "stream",
     "text": [
      "{'events': ['cross_event_ecuador'], 'models': ['efficientnet'], 'tuning': [False], 'clr': [False]}\n",
      "working dir c:\\Users\\wsn8\\Code\\disaster-damage-assessment-ml\n",
      "cross_event_ecuador_efficientnet_1643985277\n"
     ]
    },
    {
     "data": {
      "text/html": [
       "W&B syncing is set to `offline` in this directory.  <br/>\n",
       "Run `wandb online` or set WANDB_MODE=online to enable cloud syncing."
      ],
      "text/plain": [
       "<IPython.core.display.HTML object>"
      ]
     },
     "metadata": {},
     "output_type": "display_data"
    },
    {
     "name": "stdout",
     "output_type": "stream",
     "text": [
      "******************cross_event_ecuador_efficientnet_1643985277*********************************\n",
      "model_name =efficientnet\n",
      "data augmentation =False\n",
      "event =cross_event_ecuador\n",
      "finetuning =False\n",
      "lr =0.005\n",
      "\n",
      "Creating dataset.....\n",
      "images path: c:\\Users\\wsn8\\Code\\disaster-damage-assessment-ml\\data\\ASONAM17_Damage_Image_Dataset\n",
      "damage path: c:\\Users\\wsn8\\Code\\disaster-damage-assessment-ml\\data\\damage_csv\n",
      "label path: c:\\Users\\wsn8\\Code\\disaster-damage-assessment-ml\\data\\damage_csv\\cross_event_ecuador\n",
      "Found 732 validated image filenames.\n",
      "Found 23 validated image filenames.\n",
      "Found 23 validated image filenames.\n",
      "steps_per_epochs: 23\n",
      "validations_steps: 1\n",
      "Model architecture...........\n",
      "lr in model = 0.005\n",
      "Model: \"model\"\n",
      "_________________________________________________________________\n",
      "Layer (type)                 Output Shape              Param #   \n",
      "=================================================================\n",
      "input_2 (InputLayer)         [(None, 300, 300, 3)]     0         \n",
      "_________________________________________________________________\n",
      "tf.math.multiply (TFOpLambda (None, 300, 300, 3)       0         \n",
      "_________________________________________________________________\n",
      "efficientnetb3 (Functional)  (None, 10, 10, 1536)      10783535  \n",
      "_________________________________________________________________\n",
      "global_average_pooling2d (Gl (None, 1536)              0         \n",
      "_________________________________________________________________\n",
      "dropout (Dropout)            (None, 1536)              0         \n",
      "_________________________________________________________________\n",
      "dense (Dense)                (None, 3)                 4611      \n",
      "=================================================================\n",
      "Total params: 10,788,146\n",
      "Trainable params: 4,611\n",
      "Non-trainable params: 10,783,535\n",
      "_________________________________________________________________\n",
      "\n",
      "Training..................\n"
     ]
    }
   ],
   "source": [
    "# run run_experiment.py\n",
    "%run run_experiment.py --event cross_event_ecuador --model efficientnet --epochs 1 --lr 5e-3 --frac 0.05"
   ]
  },
  {
   "cell_type": "code",
   "execution_count": null,
   "metadata": {},
   "outputs": [],
   "source": []
  },
  {
   "cell_type": "markdown",
   "metadata": {},
   "source": []
  }
 ],
 "metadata": {
  "interpreter": {
   "hash": "05df59e5948b54db86bf9e704a60d9d933a6cffb826b6e81ffd7e3c67a294421"
  },
  "kernelspec": {
   "display_name": "Python 3.7.9 ('disaster-damage-assessment')",
   "language": "python",
   "name": "python3"
  },
  "language_info": {
   "codemirror_mode": {
    "name": "ipython",
    "version": 3
   },
   "file_extension": ".py",
   "mimetype": "text/x-python",
   "name": "python",
   "nbconvert_exporter": "python",
   "pygments_lexer": "ipython3",
   "version": "3.7.9"
  },
  "orig_nbformat": 4
 },
 "nbformat": 4,
 "nbformat_minor": 2
}
