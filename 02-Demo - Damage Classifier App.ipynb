{
 "cells": [
  {
   "cell_type": "markdown",
   "metadata": {},
   "source": [
    "# Demo - Damage Classifier App"
   ]
  },
  {
   "cell_type": "code",
   "execution_count": 1,
   "metadata": {},
   "outputs": [],
   "source": [
    "import os\n",
    "import gradio as gr\n",
    "import numpy as np\n",
    "import tensorflow as tf\n",
    "from tensorflow.keras import models"
   ]
  },
  {
   "cell_type": "code",
   "execution_count": 2,
   "metadata": {},
   "outputs": [],
   "source": [
    "IMG_SIZE = 300\n",
    "class_names = ['none','mild','severe']"
   ]
  },
  {
   "cell_type": "code",
   "execution_count": 3,
   "metadata": {},
   "outputs": [
    {
     "data": {
      "text/plain": [
       "('c:\\\\Users\\\\wsn8\\\\Code\\\\disaster-damage-assessment-ml',\n",
       " 'c:\\\\Users\\\\wsn8\\\\Code\\\\disaster-damage-assessment-ml\\\\outputs\\\\model')"
      ]
     },
     "execution_count": 3,
     "metadata": {},
     "output_type": "execute_result"
    }
   ],
   "source": [
    "# Working Directory\n",
    "cwd = os.getcwd()\n",
    "outpath= os.path.join(cwd,\"outputs\",\"model\")\n",
    "cwd, outpath"
   ]
  },
  {
   "cell_type": "markdown",
   "metadata": {},
   "source": [
    "## Run the Gradio classifier app"
   ]
  },
  {
   "cell_type": "code",
   "execution_count": 4,
   "metadata": {},
   "outputs": [
    {
     "name": "stdout",
     "output_type": "stream",
     "text": [
      "Running on local URL:  http://127.0.0.1:7860/\n",
      "\n",
      "To create a public link, set `share=True` in `launch()`.\n"
     ]
    },
    {
     "data": {
      "text/html": [
       "\n",
       "        <iframe\n",
       "            width=\"900\"\n",
       "            height=\"500\"\n",
       "            src=\"http://127.0.0.1:7860/\"\n",
       "            frameborder=\"0\"\n",
       "            allowfullscreen\n",
       "            \n",
       "        ></iframe>\n",
       "        "
      ],
      "text/plain": [
       "<IPython.lib.display.IFrame at 0x231b1ad0448>"
      ]
     },
     "metadata": {},
     "output_type": "display_data"
    }
   ],
   "source": [
    "model_name = 'cross_event_ecuador_haiti_efficientnet_fine_tuned_1644086357.h5'\n",
    "loaded_model = models.load_model(os.path.join(outpath,model_name))\n",
    "\n",
    "def _classifier(input):\n",
    "  img = np.asarray(tf.cast(input, dtype=tf.float32)) * 1 / 255.0\n",
    "  img = img.reshape((-1, IMG_SIZE, IMG_SIZE, 3))\n",
    "  preds = loaded_model.predict(img).flatten()\n",
    "  return {class_names[i]:float(preds[i]) for i in range(len(class_names))}\n",
    "\n",
    "iface = gr.Interface(fn=_classifier, \n",
    "                    title=\"Disaster damage assessment from social media image\",\n",
    "                      description=\"This simple app allow users to load an image and assess the extent of damage cause by an earthquake\",\n",
    "                      article=\"The severity of damage in an image is the extent of physical destruction shown in it. For this experiment we only consider three level of damages :severe damage,mild damage and no damage (none)\",\n",
    "                     \n",
    "                     inputs=gr.inputs.Image(shape=(IMG_SIZE, IMG_SIZE)),\n",
    "                     outputs=gr.outputs.Label()\n",
    "                     )\n",
    "\n",
    "iface.launch(debug=True)"
   ]
  },
  {
   "cell_type": "code",
   "execution_count": null,
   "metadata": {},
   "outputs": [],
   "source": []
  }
 ],
 "metadata": {
  "interpreter": {
   "hash": "05df59e5948b54db86bf9e704a60d9d933a6cffb826b6e81ffd7e3c67a294421"
  },
  "kernelspec": {
   "display_name": "Python 3.7.9 ('disaster-damage-assessment')",
   "language": "python",
   "name": "python3"
  },
  "language_info": {
   "codemirror_mode": {
    "name": "ipython",
    "version": 3
   },
   "file_extension": ".py",
   "mimetype": "text/x-python",
   "name": "python",
   "nbconvert_exporter": "python",
   "pygments_lexer": "ipython3",
   "version": "3.7.9"
  },
  "orig_nbformat": 4
 },
 "nbformat": 4,
 "nbformat_minor": 2
}
